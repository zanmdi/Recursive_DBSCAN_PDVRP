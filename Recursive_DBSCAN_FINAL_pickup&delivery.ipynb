{
 "cells": [
  {
   "cell_type": "markdown",
   "id": "47d04e5d",
   "metadata": {},
   "source": [
    "# DBSCAN Clustering"
   ]
  },
  {
   "cell_type": "code",
   "execution_count": 1,
   "id": "aeb8976c",
   "metadata": {},
   "outputs": [],
   "source": [
    "#Import Related Libraries\n",
    "import pandas as pd\n",
    "import numpy as np\n",
    "from sklearn.datasets import make_moons\n",
    "import matplotlib.pyplot as plt\n",
    "from sklearn.cluster import DBSCAN"
   ]
  },
  {
   "cell_type": "code",
   "execution_count": 2,
   "id": "aa8306c8",
   "metadata": {},
   "outputs": [],
   "source": [
    "#Load the datset of customers which is saved as csv file\n",
    "df = pd.read_csv('pick_and_del.csv')"
   ]
  },
  {
   "cell_type": "code",
   "execution_count": 3,
   "id": "69e23bee",
   "metadata": {},
   "outputs": [
    {
     "data": {
      "text/html": [
       "<div>\n",
       "<style scoped>\n",
       "    .dataframe tbody tr th:only-of-type {\n",
       "        vertical-align: middle;\n",
       "    }\n",
       "\n",
       "    .dataframe tbody tr th {\n",
       "        vertical-align: top;\n",
       "    }\n",
       "\n",
       "    .dataframe thead th {\n",
       "        text-align: right;\n",
       "    }\n",
       "</style>\n",
       "<table border=\"1\" class=\"dataframe\">\n",
       "  <thead>\n",
       "    <tr style=\"text-align: right;\">\n",
       "      <th></th>\n",
       "      <th>CUST NO.</th>\n",
       "      <th>XCOORD.</th>\n",
       "      <th>YCOORD.</th>\n",
       "      <th>DEMAND</th>\n",
       "      <th>READY TIME</th>\n",
       "      <th>DUE DATE</th>\n",
       "      <th>SERVICE   TIME</th>\n",
       "      <th>TYPE</th>\n",
       "    </tr>\n",
       "  </thead>\n",
       "  <tbody>\n",
       "    <tr>\n",
       "      <th>0</th>\n",
       "      <td>2407</td>\n",
       "      <td>151.186935</td>\n",
       "      <td>-33.934121</td>\n",
       "      <td>1</td>\n",
       "      <td>25200</td>\n",
       "      <td>72000</td>\n",
       "      <td>900</td>\n",
       "      <td>pickup</td>\n",
       "    </tr>\n",
       "    <tr>\n",
       "      <th>1</th>\n",
       "      <td>67</td>\n",
       "      <td>150.998430</td>\n",
       "      <td>-33.920350</td>\n",
       "      <td>1</td>\n",
       "      <td>23400</td>\n",
       "      <td>32400</td>\n",
       "      <td>900</td>\n",
       "      <td>pickup</td>\n",
       "    </tr>\n",
       "    <tr>\n",
       "      <th>2</th>\n",
       "      <td>122</td>\n",
       "      <td>151.164240</td>\n",
       "      <td>-33.923950</td>\n",
       "      <td>1</td>\n",
       "      <td>50400</td>\n",
       "      <td>64800</td>\n",
       "      <td>900</td>\n",
       "      <td>pickup</td>\n",
       "    </tr>\n",
       "    <tr>\n",
       "      <th>3</th>\n",
       "      <td>145</td>\n",
       "      <td>151.198590</td>\n",
       "      <td>-33.903630</td>\n",
       "      <td>1</td>\n",
       "      <td>54000</td>\n",
       "      <td>61200</td>\n",
       "      <td>900</td>\n",
       "      <td>pickup</td>\n",
       "    </tr>\n",
       "    <tr>\n",
       "      <th>4</th>\n",
       "      <td>149</td>\n",
       "      <td>151.216090</td>\n",
       "      <td>-33.882890</td>\n",
       "      <td>1</td>\n",
       "      <td>43200</td>\n",
       "      <td>57600</td>\n",
       "      <td>900</td>\n",
       "      <td>pickup</td>\n",
       "    </tr>\n",
       "  </tbody>\n",
       "</table>\n",
       "</div>"
      ],
      "text/plain": [
       "   CUST NO.     XCOORD.    YCOORD.  DEMAND  READY TIME  DUE DATE  \\\n",
       "0      2407  151.186935 -33.934121       1       25200     72000   \n",
       "1        67  150.998430 -33.920350       1       23400     32400   \n",
       "2       122  151.164240 -33.923950       1       50400     64800   \n",
       "3       145  151.198590 -33.903630       1       54000     61200   \n",
       "4       149  151.216090 -33.882890       1       43200     57600   \n",
       "\n",
       "   SERVICE   TIME    TYPE  \n",
       "0             900  pickup  \n",
       "1             900  pickup  \n",
       "2             900  pickup  \n",
       "3             900  pickup  \n",
       "4             900  pickup  "
      ]
     },
     "execution_count": 3,
     "metadata": {},
     "output_type": "execute_result"
    }
   ],
   "source": [
    "df.head()"
   ]
  },
  {
   "cell_type": "code",
   "execution_count": 4,
   "id": "318f8215",
   "metadata": {},
   "outputs": [
    {
     "name": "stdout",
     "output_type": "stream",
     "text": [
      "190\n"
     ]
    }
   ],
   "source": [
    "#Check Number of Customers\n",
    "print(len(df))"
   ]
  },
  {
   "cell_type": "code",
   "execution_count": 5,
   "id": "892ebaa4",
   "metadata": {},
   "outputs": [],
   "source": [
    "#Conver latitude and Longitude of customers to array\n",
    "coords = df[['YCOORD.', 'XCOORD.']].to_numpy()"
   ]
  },
  {
   "cell_type": "code",
   "execution_count": 6,
   "id": "95aa9eab",
   "metadata": {},
   "outputs": [],
   "source": [
    "#inorder to start the labels from 1 \n",
    "#labels in DBSCAN starts from -1 which is cluster of outliers\n",
    "def normalize_cluster_labels(labels):\n",
    "    min_value = min(labels)\n",
    "    if (min_value < 0):\n",
    "         labels = labels + 1\n",
    "    return labels"
   ]
  },
  {
   "cell_type": "markdown",
   "id": "c9a6a4b1",
   "metadata": {},
   "source": [
    "Inputs of the models"
   ]
  },
  {
   "cell_type": "code",
   "execution_count": 7,
   "id": "88832b6c",
   "metadata": {},
   "outputs": [],
   "source": [
    "#Maximum number of customers in each cluster\n",
    "max_cluster_size_const = 40\n",
    "#Minimum number of customers in each cluster\n",
    "min_cluster_size_const = 10\n",
    "\n",
    "\n",
    "km_per_radian = 6371.0088 #km/rad"
   ]
  },
  {
   "cell_type": "markdown",
   "id": "9b390b7c",
   "metadata": {},
   "source": [
    "DBSCAN Algorithm"
   ]
  },
  {
   "cell_type": "code",
   "execution_count": 8,
   "id": "274c7b43",
   "metadata": {},
   "outputs": [],
   "source": [
    "def DBSCAN_AL_simple(coords, eps):\n",
    "    global clusters\n",
    "    km_per_radian = 6371.0088 #km/rad\n",
    "    db = DBSCAN(eps=eps/(km_per_radian*10), min_samples=min_cluster_size_const, algorithm='ball_tree', metric='haversine').fit(np.radians(coords))\n",
    "    cluster_labels = db.labels_\n",
    "    cluster_labels_nn = normalize_cluster_labels(cluster_labels)\n",
    "    num_clusters = len(set(cluster_labels_nn))\n",
    "    clusters = pd.Series([coords[cluster_labels_nn == n] for n in range(num_clusters)])\n",
    "    return clusters"
   ]
  },
  {
   "cell_type": "markdown",
   "id": "12fe49d9",
   "metadata": {},
   "source": [
    "Find the best Epsilon for DBSCAN"
   ]
  },
  {
   "cell_type": "code",
   "execution_count": 9,
   "id": "114f4c20",
   "metadata": {},
   "outputs": [],
   "source": [
    "#This function calculates distance between two gps points\n",
    "\n",
    "import math\n",
    "\n",
    "def haversine(coord1, coord2):\n",
    "    R =6371.0088  # Earth radius in km\n",
    "    lat1, lon1 = coord1\n",
    "    lat2, lon2 = coord2\n",
    "    \n",
    "    phi1, phi2 = math.radians(lat1), math.radians(lat2) \n",
    "    dphi       = math.radians(lat2 - lat1)\n",
    "    dlambda    = math.radians(lon2 - lon1)\n",
    "    \n",
    "    a = math.sin(dphi/2)**2 + \\\n",
    "        math.cos(phi1)*math.cos(phi2)*math.sin(dlambda/2)**2\n",
    "    \n",
    "    return 2*R*math.atan2(math.sqrt(a), math.sqrt(1 - a))"
   ]
  },
  {
   "cell_type": "code",
   "execution_count": 10,
   "id": "16f13d52",
   "metadata": {},
   "outputs": [],
   "source": [
    "c_list = df['CUST NO.'].tolist() # list of customers inorder to add them as the key of dictionary\n",
    "\n",
    "#make a dictionary of customers' location (lat & lon)\n",
    "customerloc ={}\n",
    "\n",
    "for j in c_list:\n",
    "    customerloc[j] = (df.iloc[c_list.index(j), 2] , df.iloc[c_list.index(j), 1])\n"
   ]
  },
  {
   "cell_type": "code",
   "execution_count": 11,
   "id": "3fdf5fb2",
   "metadata": {},
   "outputs": [],
   "source": [
    "#Create distance Matrix\n",
    "\n",
    "matrix = []\n",
    "\n",
    "for i in range(len(list(customerloc.values()))):\n",
    "    # Append an empty sublist inside the list\n",
    "    matrix.append([])\n",
    "    \n",
    "    m = list(customerloc.values())[i][0], list(customerloc.values())[i][1]\n",
    "    \n",
    "    for c_id, coord in customerloc.items():\n",
    "        distance = haversine(m , coord)\n",
    "        matrix[i].append(distance)    "
   ]
  },
  {
   "cell_type": "code",
   "execution_count": 12,
   "id": "296ed0bc",
   "metadata": {},
   "outputs": [],
   "source": [
    "max_lst = []\n",
    "min_lst = []\n",
    "\n",
    "\n",
    "# Find the second smallest value of a list as the smallest is 0 (distance between the point and itself) in distance matrix\n",
    "\n",
    "def find_2nd_max(lst):\n",
    "    lst = [x for x in lst if x != 0.0]\n",
    "    return min(lst)\n",
    "\n",
    "\n",
    "# This loop finds the max and min value in each row of distance matrix\n",
    "\n",
    "for i in range(len(matrix)):\n",
    "    max_lst.append(max(matrix[i]))\n",
    "    min_lst.append(find_2nd_max(matrix[i]))\n",
    "\n",
    "# Find the min and max value of whole gps points\n",
    "\n",
    "max_dist = max(max_lst)\n",
    "min_dist = min(min_lst)\n",
    "\n",
    "    "
   ]
  },
  {
   "cell_type": "code",
   "execution_count": 13,
   "id": "626e99aa",
   "metadata": {},
   "outputs": [],
   "source": [
    "#Converting min_dist to an integers number\n",
    "#This requires to be multiplied by the number of decimal values in min distance\n",
    "\n",
    "# No. of zeros required\n",
    "n = len(str(min_dist))\n",
    "\n",
    "# using ljust() adding trailing zero\n",
    "str_ = '1'\n",
    "output = str_.ljust(n + len(str_), '0')\n",
    "output = int(output)\n",
    "\n",
    "# Finding the best radius trough loop in which clusters are made according to different epsilon \n",
    "# between min and max ditsnce\n",
    "# the computational time for this processing is really high but it is the most accurate way to get the clusters\n",
    "def best_radius_time_limit(coords):\n",
    "    global bestradius\n",
    "    radius_lst = []\n",
    "    for i in range (int(min_dist*output), int(max_dist*output)):\n",
    "        D = DBSCAN_AL_simple(coords, i/output)\n",
    "        radius_lst.append(len(D))\n",
    "        \n",
    "    bestradius = radius_lst.index(max(radius_lst))\n",
    "    return bestradius"
   ]
  },
  {
   "cell_type": "code",
   "execution_count": 14,
   "id": "aa7dea5e",
   "metadata": {},
   "outputs": [],
   "source": [
    "# As the eps must be possitive as input of the DBSCAN we try to test eps between 1 and roundup of the max distance\n",
    "# This takes time as well but worths to be used rather than previous one \n",
    "\n",
    "def best_radius(coords):\n",
    "    global bestradius\n",
    "    radius_lst = []\n",
    "    for i in range (1, round(max_dist)):\n",
    "        D = DBSCAN_AL_simple(coords, i)\n",
    "        radius_lst.append(len(D))\n",
    "        \n",
    "    bestradius = radius_lst.index(max(radius_lst))+1\n",
    "    return bestradius"
   ]
  },
  {
   "cell_type": "markdown",
   "id": "79361ab6",
   "metadata": {},
   "source": [
    "Generate Initial Solution"
   ]
  },
  {
   "cell_type": "code",
   "execution_count": 15,
   "id": "37cf68c0",
   "metadata": {},
   "outputs": [],
   "source": [
    "# Generate Initial Solution for the recursive algorithm\n",
    "# We generate clusters for the first run\n",
    "D = DBSCAN_AL_simple(coords, best_radius(coords))"
   ]
  },
  {
   "cell_type": "code",
   "execution_count": 16,
   "id": "fdcd8906",
   "metadata": {},
   "outputs": [
    {
     "data": {
      "text/plain": [
       "0    [[-33.9341214, 151.1869349], [-33.92035, 150.9...\n",
       "1    [[-33.88289, 151.21609], [-33.87761, 151.24476...\n",
       "2    [[-33.90363, 151.19859], [-33.91238, 151.19703...\n",
       "dtype: object"
      ]
     },
     "execution_count": 16,
     "metadata": {},
     "output_type": "execute_result"
    }
   ],
   "source": [
    "D"
   ]
  },
  {
   "cell_type": "markdown",
   "id": "fa2fbd78",
   "metadata": {},
   "source": [
    "Recursive_DBSCAN"
   ]
  },
  {
   "cell_type": "code",
   "execution_count": 17,
   "id": "ea0a5e4c",
   "metadata": {},
   "outputs": [],
   "source": [
    "done = [] # create a list in which all accpted clusters will be stored\n",
    "nonempty = D # make a series in which in each itteration we store the new clusters and remove previuos clusters"
   ]
  },
  {
   "cell_type": "code",
   "execution_count": 18,
   "id": "30e5c409",
   "metadata": {
    "scrolled": true
   },
   "outputs": [
    {
     "name": "stdout",
     "output_type": "stream",
     "text": [
      "size of first nonempty 3\n",
      "size of G 124\n",
      "size of G 15\n",
      "size of G 10\n",
      "size of G 11\n",
      "size of nonempty_after 6\n",
      "size of first nonempty 4\n",
      "size of G 87\n",
      "size of G 13\n",
      "size of G 14\n",
      "size of G 10\n",
      "size of nonempty_after 7\n",
      "size of first nonempty 4\n",
      "size of G 53\n",
      "size of G 14\n",
      "size of G 14\n",
      "size of G 6\n",
      "size of nonempty_after 7\n",
      "size of first nonempty 4\n",
      "size of G 23\n",
      "size of G 10\n",
      "size of G 10\n",
      "size of G 10\n",
      "size of nonempty_after 7\n",
      "size of first nonempty 4\n"
     ]
    }
   ],
   "source": [
    "while len(nonempty):   # while there is no clusters needed to be re-cluster (all clusters all accepted)\n",
    "    print(\"size of first nonempty\", len(nonempty))\n",
    "    for i in nonempty:\n",
    "        if len(i)> max_cluster_size_const:\n",
    "            nonempty = nonempty.drop(list(nonempty).index(i))\n",
    "            nonempty = nonempty.reset_index(drop=True)\n",
    "            G =  DBSCAN_AL_simple(i, best_radius(i))\n",
    "            \n",
    "            # There are some clusters that won't be reculstered due to the eps limitation mentioned before\n",
    "            # We count this points as outlier which will be handled in next part\n",
    "            if (len(G)) != 1:\n",
    "                for g in G:\n",
    "                    print(\"size of G\", len(g))\n",
    "                nonempty = pd.concat([nonempty, G], ignore_index = True)\n",
    "                print(\"size of nonempty_after\", len(nonempty))\n",
    "                \n",
    "            else:\n",
    "                done.append(i)\n",
    "\n",
    "                \n",
    "        else:\n",
    "            done.append(i)\n",
    "            nonempty = nonempty.drop(list(nonempty).index(i))\n",
    "            nonempty = nonempty.reset_index(drop=True)"
   ]
  },
  {
   "cell_type": "code",
   "execution_count": 19,
   "id": "612aa278",
   "metadata": {},
   "outputs": [
    {
     "name": "stdout",
     "output_type": "stream",
     "text": [
      "190\n",
      "True\n"
     ]
    }
   ],
   "source": [
    "# Check wether all the points are clustered\n",
    "\n",
    "sumation = 0\n",
    "for i in range(len(done)):\n",
    "    sumation += len(done[i])\n",
    "\n",
    "\n",
    "print(sumation)\n",
    "print(sumation == len(df))"
   ]
  },
  {
   "cell_type": "code",
   "execution_count": 20,
   "id": "135d3bde",
   "metadata": {},
   "outputs": [],
   "source": [
    "# Check the number of points in each cluster\n",
    "\n",
    "lst_len_clusters = []\n",
    "for i in range(len(done)):\n",
    "    lst_len_clusters.append(len(done[i]))"
   ]
  },
  {
   "cell_type": "code",
   "execution_count": 21,
   "id": "d567ec0e",
   "metadata": {},
   "outputs": [
    {
     "name": "stdout",
     "output_type": "stream",
     "text": [
      "[14, 16, 15, 10, 11, 13, 14, 10, 14, 14, 6, 23, 10, 10, 10]\n"
     ]
    }
   ],
   "source": [
    "print(lst_len_clusters)"
   ]
  },
  {
   "cell_type": "code",
   "execution_count": 22,
   "id": "3c509a03",
   "metadata": {},
   "outputs": [],
   "source": [
    "# As can be seen there are some clusters that the number of point is less than lower bound and there are some clusters \n",
    "# the number of point in them is greater than upper bound.\n",
    "# all points in these clusters are counted as outliers, so it's time to handle them."
   ]
  },
  {
   "cell_type": "markdown",
   "id": "aa95dbb9",
   "metadata": {},
   "source": [
    "Handling Outliers"
   ]
  },
  {
   "cell_type": "code",
   "execution_count": 23,
   "id": "bb868184",
   "metadata": {},
   "outputs": [],
   "source": [
    "# For handling outliers we first make a dataset out of our final_results"
   ]
  },
  {
   "cell_type": "code",
   "execution_count": 24,
   "id": "dec7c535",
   "metadata": {},
   "outputs": [],
   "source": [
    "# Make dataset for each cluster\n",
    "# This makes dataframe in loop\n",
    "d = {}\n",
    "for name in range(len(done)):\n",
    "    d[name] = pd.DataFrame(done[name])"
   ]
  },
  {
   "cell_type": "code",
   "execution_count": 25,
   "id": "aad1359a",
   "metadata": {},
   "outputs": [],
   "source": [
    "# Change the column name\n",
    "# Add cluster_ID as a new column to our dataframe\n",
    "for i in range(len(d)):\n",
    "    d[i].columns = ['y_coord', 'x_coord']\n",
    "    d[i]['cluster_id'] = list(d.keys())[i]"
   ]
  },
  {
   "cell_type": "code",
   "execution_count": 26,
   "id": "4b84bfa7",
   "metadata": {},
   "outputs": [],
   "source": [
    "# Concatanate (join vertically) the dataframes\n",
    "\n",
    "final_results = pd.DataFrame()\n",
    "i = 0\n",
    "\n",
    "while i < len(d):\n",
    "    final_results = pd.concat([final_results, d[i]], ignore_index=True)\n",
    "    i += 1"
   ]
  },
  {
   "cell_type": "code",
   "execution_count": 27,
   "id": "7014641c",
   "metadata": {},
   "outputs": [
    {
     "data": {
      "text/plain": [
       "<matplotlib.collections.PathCollection at 0x1448ba440>"
      ]
     },
     "execution_count": 27,
     "metadata": {},
     "output_type": "execute_result"
    },
    {
     "data": {
      "image/png": "[encoded data removed]",
      "text/plain": [
       "<Figure size 640x480 with 1 Axes>"
      ]
     },
     "metadata": {},
     "output_type": "display_data"
    }
   ],
   "source": [
    "# See the Clusters on the map\n",
    "plt.scatter(final_results['x_coord'], final_results['y_coord'],c=final_results['cluster_id'], cmap=plt.cm.hsv)"
   ]
  },
  {
   "cell_type": "code",
   "execution_count": 28,
   "id": "1208b610",
   "metadata": {},
   "outputs": [],
   "source": [
    "#As they maybe some identical value in the list, their index(cluster_ID) reamins same if we use .index() \n",
    "#so this function is defined this function\n",
    "\n",
    "def indices( mylist, value):\n",
    "    return [i for i,x in enumerate(mylist) if x==value]"
   ]
  },
  {
   "cell_type": "code",
   "execution_count": 29,
   "id": "b64bac98",
   "metadata": {},
   "outputs": [],
   "source": [
    "# find the cluster ID of outputs counted as outlier\n",
    "\n",
    "Outlierts_cluster_ID = []\n",
    "for i in lst_len_clusters:\n",
    "    if i > max_cluster_size_const or i < min_cluster_size_const:\n",
    "        Outlierts_cluster_ID.append(indices( lst_len_clusters, i))\n",
    "        \n",
    "# The output of above loop is list of list so we flatten it        \n",
    "Outlierts_cluster_ID_flt = [item for sublist in Outlierts_cluster_ID for item in sublist]"
   ]
  },
  {
   "cell_type": "code",
   "execution_count": 30,
   "id": "d1d1864b",
   "metadata": {},
   "outputs": [
    {
     "data": {
      "text/plain": [
       "[10]"
      ]
     },
     "execution_count": 30,
     "metadata": {},
     "output_type": "execute_result"
    }
   ],
   "source": [
    "# This clusters are not accpeted\n",
    "\n",
    "Outlierts_cluster_ID_flt"
   ]
  },
  {
   "cell_type": "code",
   "execution_count": 31,
   "id": "996677a5",
   "metadata": {},
   "outputs": [],
   "source": [
    "# We exclude these clusters from our datset\n",
    "final_results_without_outlier = final_results.copy()\n",
    "for i in Outlierts_cluster_ID_flt:\n",
    "    final_results_without_outlier = final_results_without_outlier[final_results_without_outlier.cluster_id != i]"
   ]
  },
  {
   "cell_type": "code",
   "execution_count": 32,
   "id": "162201fc",
   "metadata": {},
   "outputs": [],
   "source": [
    "# We create a datset of outliers\n",
    "\n",
    "final_results_outlier = final_results.loc[final_results['cluster_id'].isin(Outlierts_cluster_ID_flt)]  "
   ]
  },
  {
   "cell_type": "markdown",
   "id": "49e723c4",
   "metadata": {},
   "source": [
    "# For outliers detected by our instinct"
   ]
  },
  {
   "cell_type": "code",
   "execution_count": 33,
   "id": "d0356cc3",
   "metadata": {},
   "outputs": [],
   "source": [
    "# We claclulate the average distance of every customer in a cluster from their own clusters\n",
    "\n",
    "#claculate cluster center\n",
    "centers = final_results.groupby(['cluster_id']).mean()\n",
    "centers = centers.reset_index()\n",
    "\n",
    "# Retrive unique cluster IDs\n",
    "cluster_ids = list(set(final_results['cluster_id'].tolist()))\n",
    "\n",
    "# make dictionary of clusters and their points\n",
    "points_in_cluster = {}\n",
    "for i in cluster_ids:\n",
    "    points_in_cluster[i] = final_results[final_results['cluster_id'] == i]"
   ]
  },
  {
   "cell_type": "code",
   "execution_count": 34,
   "id": "5d3decf9",
   "metadata": {},
   "outputs": [],
   "source": [
    "#This function calculates distance between two gps points\n",
    "\n",
    "def haversine(coord1, coord2):\n",
    "    R =6371.0088  # Earth radius in km\n",
    "    lat1, lon1 = coord1\n",
    "    lat2, lon2 = coord2\n",
    "    \n",
    "    phi1, phi2 = math.radians(lat1), math.radians(lat2) \n",
    "    dphi       = math.radians(lat2 - lat1)\n",
    "    dlambda    = math.radians(lon2 - lon1)\n",
    "    \n",
    "    a = math.sin(dphi/2)**2 + \\\n",
    "        math.cos(phi1)*math.cos(phi2)*math.sin(dlambda/2)**2\n",
    "    \n",
    "    return 2*R*math.atan2(math.sqrt(a), math.sqrt(1 - a))\n"
   ]
  },
  {
   "cell_type": "code",
   "execution_count": 35,
   "id": "58a0ae51",
   "metadata": {},
   "outputs": [],
   "source": [
    "# Caculate the distance between each point and their own cluster center cluster\n",
    "\n",
    "def distance_to_cluster(cluster_center_x_y, dic):\n",
    "    distance_to_cl= []\n",
    "    for outliers, coord in dic.items():\n",
    "        distance = haversine(cluster_center_x_y , coord)\n",
    "        distance_to_cl.append(distance)\n",
    "        \n",
    "    return distance_to_cl"
   ]
  },
  {
   "cell_type": "code",
   "execution_count": 36,
   "id": "4a5e2f3e",
   "metadata": {},
   "outputs": [],
   "source": [
    "# save Calculation\n",
    "av_dist = {}\n",
    "for i in cluster_ids:\n",
    "    dic = {}\n",
    "    points_in_cluster[i] = points_in_cluster[i].reset_index()\n",
    "    for j in range(len(points_in_cluster[i])):\n",
    "        dic[j] = (points_in_cluster[i].iloc[j,2], points_in_cluster[i].iloc[j,1])\n",
    "\n",
    "    distance_in_cluster = [] \n",
    "\n",
    "    cluster_center_x_y = centers.iloc[cluster_ids.index(i), 2], centers.iloc[cluster_ids.index(i), 1]\n",
    "    distance_in_cluster.append(distance_to_cluster(cluster_center_x_y, dic))\n",
    "    #print(distance_in_cluster)\n",
    "    av_dist[i] = sum(distance_in_cluster[0])/len(points_in_cluster[0])"
   ]
  },
  {
   "cell_type": "code",
   "execution_count": 37,
   "id": "edb6ad2d",
   "metadata": {},
   "outputs": [],
   "source": [
    "inst_outlier_cls = []\n",
    "\n",
    "for i in list(av_dist.keys()):\n",
    "    if av_dist[i] > 15:\n",
    "        inst_outlier_cls.append(i)  "
   ]
  },
  {
   "cell_type": "code",
   "execution_count": 38,
   "id": "9bcbb0c6",
   "metadata": {},
   "outputs": [
    {
     "data": {
      "text/plain": [
       "[11]"
      ]
     },
     "execution_count": 38,
     "metadata": {},
     "output_type": "execute_result"
    }
   ],
   "source": [
    "inst_outlier_cls"
   ]
  },
  {
   "cell_type": "code",
   "execution_count": 39,
   "id": "69ca048f",
   "metadata": {},
   "outputs": [
    {
     "data": {
      "text/plain": [
       "Text(0, 0.5, 'Y Coordinate')"
      ]
     },
     "execution_count": 39,
     "metadata": {},
     "output_type": "execute_result"
    },
    {
     "data": {
      "image/png": "[encoded data removed]",
      "text/plain": [
       "<Figure size 640x480 with 1 Axes>"
      ]
     },
     "metadata": {},
     "output_type": "display_data"
    }
   ],
   "source": [
    "# Check cluster of Outliers\n",
    "\n",
    "# make datasets of outliers\n",
    "outlier_df = {}\n",
    "# colors\n",
    "clr = ['Accent', 'Accent_r', 'Blues', 'Blues_r', 'BrBG', 'BrBG_r', 'BuGn', 'BuGn_r', 'BuPu', 'BuPu_r', 'CMRmap', 'CMRmap_r', \n",
    "       'Dark2', 'Dark2_r', 'GnBu', 'GnBu_r', 'Greens', 'Greens_r', 'Greys', 'Greys_r', 'OrRd', 'OrRd_r', 'Oranges', 'Oranges_r',\n",
    "       'PRGn', 'PRGn_r', 'Paired', 'Paired_r', 'Pastel1', 'Pastel1_r', 'Pastel2', 'Pastel2_r', 'PiYG', 'PiYG_r', 'PuBu', \n",
    "       'PuBuGn', 'PuBuGn_r', 'PuBu_r', 'PuOr', 'PuOr_r', 'PuRd', 'PuRd_r', 'Purples', 'Purples_r', 'RdBu', 'RdBu_r', 'RdGy',\n",
    "       'RdGy_r', 'RdPu', 'RdPu_r', 'RdYlBu', 'RdYlBu_r']\n",
    "for i, j in zip(inst_outlier_cls, clr):\n",
    "    outlier_df[i] = final_results[final_results['cluster_id']==i]\n",
    "    plt.scatter(outlier_df[i]['x_coord'], outlier_df[i]['y_coord'],c=outlier_df[i]['cluster_id'], cmap=j)\n",
    "\n",
    "plt.xlabel('X Coordinate')\n",
    "plt.ylabel('Y Coordinate')"
   ]
  },
  {
   "cell_type": "code",
   "execution_count": 40,
   "id": "f01504eb",
   "metadata": {},
   "outputs": [],
   "source": [
    "for i in inst_outlier_cls:\n",
    "    final_results_outlier = pd.concat([final_results_outlier, outlier_df[i]])"
   ]
  },
  {
   "cell_type": "code",
   "execution_count": 41,
   "id": "0f231517",
   "metadata": {},
   "outputs": [],
   "source": [
    "for i in inst_outlier_cls:\n",
    "    final_results_without_outlier = final_results_without_outlier[final_results_without_outlier['cluster_id']!= 33]"
   ]
  },
  {
   "cell_type": "markdown",
   "id": "394c8ecd",
   "metadata": {},
   "source": [
    "# Till here"
   ]
  },
  {
   "cell_type": "code",
   "execution_count": 42,
   "id": "6596cbc0",
   "metadata": {},
   "outputs": [
    {
     "name": "stdout",
     "output_type": "stream",
     "text": [
      "Total number of outliers, is: 29\n"
     ]
    }
   ],
   "source": [
    "print ('Total number of outliers, is:', len(final_results_outlier))\n",
    "\n",
    "final_results_outlier = final_results_outlier.reset_index()"
   ]
  },
  {
   "cell_type": "code",
   "execution_count": 43,
   "id": "8e852e7c",
   "metadata": {},
   "outputs": [],
   "source": [
    "# We caclulate the center of each cluster, by clculating the average of x and y coordinate\n",
    "\n",
    "clusers_center = final_results_without_outlier.groupby(['cluster_id']).mean()"
   ]
  },
  {
   "cell_type": "code",
   "execution_count": 44,
   "id": "99f684ff",
   "metadata": {},
   "outputs": [],
   "source": [
    "# the index is kept as cluster ID\n",
    "\n",
    "clusers_center = clusers_center.reset_index()"
   ]
  },
  {
   "cell_type": "code",
   "execution_count": 45,
   "id": "4d4791c4",
   "metadata": {},
   "outputs": [],
   "source": [
    "c_list = final_results_outlier['index'].tolist()"
   ]
  },
  {
   "cell_type": "code",
   "execution_count": 46,
   "id": "b8c2b223",
   "metadata": {},
   "outputs": [],
   "source": [
    "#make a dictionary of outliers\n",
    "\n",
    "outlier ={}\n",
    "\n",
    "for j in c_list:\n",
    "    outlier[j] = (final_results_outlier.iloc[c_list.index(j), 1] , final_results_outlier.iloc[c_list.index(j), 2])"
   ]
  },
  {
   "cell_type": "code",
   "execution_count": 47,
   "id": "1e4be352",
   "metadata": {},
   "outputs": [],
   "source": [
    "# Caculate the distance between each point and each cluster\n",
    "\n",
    "def distance_to_cluster(cluster_center_x_y):\n",
    "    distance_to_cl= []\n",
    "    for outliers, coord in outlier.items():\n",
    "        distance = haversine(cluster_center_x_y , coord)\n",
    "        distance_to_cl.append(distance)\n",
    "        \n",
    "    return distance_to_cl"
   ]
  },
  {
   "cell_type": "code",
   "execution_count": 48,
   "id": "0a4819fd",
   "metadata": {},
   "outputs": [],
   "source": [
    "lst_of_distance_from_cluster = []\n",
    "\n",
    "for i in range(len(clusers_center)):\n",
    "    cluster_center_x_y = clusers_center.iloc[i, 1], clusers_center.iloc[i, 2]\n",
    "    lst_of_distance_from_cluster.append(distance_to_cluster(cluster_center_x_y))"
   ]
  },
  {
   "cell_type": "code",
   "execution_count": 49,
   "id": "643e6d4f",
   "metadata": {},
   "outputs": [
    {
     "data": {
      "text/plain": [
       "14"
      ]
     },
     "execution_count": 49,
     "metadata": {},
     "output_type": "execute_result"
    }
   ],
   "source": [
    "len(lst_of_distance_from_cluster)"
   ]
  },
  {
   "cell_type": "code",
   "execution_count": 50,
   "id": "883e617f",
   "metadata": {},
   "outputs": [],
   "source": [
    "del final_results_outlier['index']"
   ]
  },
  {
   "cell_type": "code",
   "execution_count": 51,
   "id": "347bdc60",
   "metadata": {},
   "outputs": [],
   "source": [
    "centers_df  = pd.DataFrame(lst_of_distance_from_cluster).transpose()\n",
    "centers_df.columns = final_results_without_outlier.cluster_id.unique().tolist()"
   ]
  },
  {
   "cell_type": "code",
   "execution_count": 52,
   "id": "022afba8",
   "metadata": {},
   "outputs": [
    {
     "name": "stderr",
     "output_type": "stream",
     "text": [
      "/var/folders/5l/l5lg6hfx2992d_rsbxhvt0wc0000gn/T/ipykernel_86668/962600326.py:6: UserWarning: No data for colormapping provided via 'c'. Parameters 'cmap' will be ignored\n",
      "  ax1.scatter(clusers_center['x_coord'], clusers_center['y_coord'], cmap=plt.cm.hsv, label='cluster centers')\n",
      "/var/folders/5l/l5lg6hfx2992d_rsbxhvt0wc0000gn/T/ipykernel_86668/962600326.py:7: UserWarning: No data for colormapping provided via 'c'. Parameters 'cmap' will be ignored\n",
      "  ax1.scatter(final_results_outlier['x_coord'], final_results_outlier['y_coord'], cmap=plt.cm.hsv, label='outliers')\n"
     ]
    },
    {
     "data": {
      "text/plain": [
       "<matplotlib.legend.Legend at 0x144a93520>"
      ]
     },
     "execution_count": 52,
     "metadata": {},
     "output_type": "execute_result"
    },
    {
     "data": {
      "image/png": "[encoded data removed]",
      "text/plain": [
       "<Figure size 640x480 with 1 Axes>"
      ]
     },
     "metadata": {},
     "output_type": "display_data"
    }
   ],
   "source": [
    "# See the ouliers and the center of accpted clusters\n",
    "\n",
    "fig = plt.figure()\n",
    "ax1 = fig.add_subplot(111)\n",
    "\n",
    "ax1.scatter(clusers_center['x_coord'], clusers_center['y_coord'], cmap=plt.cm.hsv, label='cluster centers')\n",
    "ax1.scatter(final_results_outlier['x_coord'], final_results_outlier['y_coord'], cmap=plt.cm.hsv, label='outliers')\n",
    "plt.legend(loc='upper left')"
   ]
  },
  {
   "cell_type": "code",
   "execution_count": 53,
   "id": "9dbdbbe3",
   "metadata": {},
   "outputs": [],
   "source": [
    "# Now we want to assign the outliers to their nearest cluster"
   ]
  },
  {
   "cell_type": "code",
   "execution_count": 54,
   "id": "f95fb355",
   "metadata": {},
   "outputs": [
    {
     "data": {
      "text/plain": [
       "array([ 0,  1,  2,  3,  4,  5,  6,  7,  8,  9, 11, 12, 13, 14])"
      ]
     },
     "execution_count": 54,
     "metadata": {},
     "output_type": "execute_result"
    }
   ],
   "source": [
    "# We extract accepted cluster IDs\n",
    "\n",
    "index = final_results_without_outlier['cluster_id'].unique()\n",
    "index"
   ]
  },
  {
   "cell_type": "code",
   "execution_count": 55,
   "id": "f375fd98",
   "metadata": {},
   "outputs": [
    {
     "data": {
      "text/plain": [
       "array([ 0,  1,  2,  3,  4,  5,  6,  7,  8,  9, 10, 11, 12, 13])"
      ]
     },
     "execution_count": 55,
     "metadata": {},
     "output_type": "execute_result"
    }
   ],
   "source": [
    "# We generate numbers from 0 to length of number of cluster-1 to have uniform index\n",
    "\n",
    "index_of_index = np.array([i for i in range(len(index))])\n",
    "index_of_index"
   ]
  },
  {
   "cell_type": "code",
   "execution_count": 56,
   "id": "ba5bd3a5",
   "metadata": {},
   "outputs": [],
   "source": [
    "# We combine the index and generated index to be extracted next\n",
    "\n",
    "combined_index = np.stack((index_of_index, index), axis=1)"
   ]
  },
  {
   "cell_type": "code",
   "execution_count": 57,
   "id": "8f0471ae",
   "metadata": {},
   "outputs": [],
   "source": [
    "# Check the number of points in each accepted cluster and save them\n",
    "\n",
    "lst_len_acc_clusters = []\n",
    "for i in index:\n",
    "    lst_len_acc_clusters.append(len(final_results_without_outlier[final_results_without_outlier['cluster_id'] == i]))"
   ]
  },
  {
   "cell_type": "code",
   "execution_count": 58,
   "id": "39d93378",
   "metadata": {},
   "outputs": [],
   "source": [
    "# Make index for each value of list of cluster lenghts\n",
    "\n",
    "combined_index_with_size_of_clusters = np.stack((index_of_index, lst_len_acc_clusters), axis=1)\n",
    "# combined_index_with_size_of_clusters"
   ]
  },
  {
   "cell_type": "code",
   "execution_count": 59,
   "id": "5f2931cb",
   "metadata": {},
   "outputs": [],
   "source": [
    "# We assign the outliers to their nearest cluster while the cluster is filled with max_cluster_size_const no. of customers\n",
    "\n",
    "\n",
    "new_index_of_outlier = {}\n",
    "i = 0\n",
    "while i < len(centers_df):\n",
    "    \n",
    "    idx = centers_df.loc[i, :].values.tolist().index(min(centers_df.loc[i, :].values.tolist()))\n",
    "    \n",
    "#    initial_idx = combined_index[idx][1]\n",
    "    \n",
    "    if combined_index_with_size_of_clusters[idx][1] <= max_cluster_size_const:\n",
    "        \n",
    "        new_index_of_outlier[i] = combined_index_with_size_of_clusters[idx][0]\n",
    "        combined_index_with_size_of_clusters[idx][1] += 1\n",
    "        i += 1\n",
    "        \n",
    "    else:  \n",
    "        centers_df = centers_df.drop(centers_df.columns[[idx]], axis=1)"
   ]
  },
  {
   "cell_type": "code",
   "execution_count": 60,
   "id": "f9046086",
   "metadata": {},
   "outputs": [],
   "source": [
    "# Dictionary to dataframe\n",
    "\n",
    "dict_to_list = list(new_index_of_outlier.items())\n",
    "new_cluster_of_outlier = pd.DataFrame(dict_to_list,columns=['index','initial cluster'])\n",
    "# new_cluster_of_outlier"
   ]
  },
  {
   "cell_type": "code",
   "execution_count": 61,
   "id": "6858b1e8",
   "metadata": {},
   "outputs": [],
   "source": [
    "# Replace the made cluster IDs (index) with their actual value\n",
    "\n",
    "for i in range(len(new_cluster_of_outlier)):\n",
    "    new_cluster_of_outlier.iloc[i, 1] = combined_index[new_cluster_of_outlier.iloc[i, 1]][1]"
   ]
  },
  {
   "cell_type": "code",
   "execution_count": 62,
   "id": "ab0a3595",
   "metadata": {},
   "outputs": [],
   "source": [
    "# Add the clusters to the points (lon, lat)\n",
    "\n",
    "final_results_outlier = final_results_outlier.reset_index().merge(new_cluster_of_outlier, on = ['index'], how = 'left')\n",
    "\n",
    "del final_results_outlier['index']\n",
    "del final_results_outlier['cluster_id']"
   ]
  },
  {
   "cell_type": "code",
   "execution_count": 63,
   "id": "372873d8",
   "metadata": {},
   "outputs": [],
   "source": [
    "final_results_outlier.columns = ['y_coord', 'x_coord', 'cluster_id']"
   ]
  },
  {
   "cell_type": "code",
   "execution_count": 64,
   "id": "a2a3c031",
   "metadata": {},
   "outputs": [],
   "source": [
    "# Combine accepted clusters with handled outliers\n",
    "\n",
    "df_final = pd.concat([final_results_without_outlier,final_results_outlier], ignore_index=True)"
   ]
  },
  {
   "cell_type": "code",
   "execution_count": 65,
   "id": "8a62d3aa",
   "metadata": {},
   "outputs": [
    {
     "data": {
      "image/png": "[encoded data removed]",
      "text/plain": [
       "<Figure size 640x480 with 1 Axes>"
      ]
     },
     "metadata": {},
     "output_type": "display_data"
    }
   ],
   "source": [
    "# See Final Clusters on the map and save them\n",
    "plt.scatter(df_final['x_coord'], df_final['y_coord'],c=df_final['cluster_id'], cmap=plt.cm.hsv)\n",
    "plt.xlabel('X Coordinate')\n",
    "plt.ylabel('Y Coordinate')\n",
    "plt.savefig(\"output.png\")"
   ]
  },
  {
   "cell_type": "code",
   "execution_count": 66,
   "id": "269736db",
   "metadata": {},
   "outputs": [],
   "source": [
    "# change the column name to be joined\n",
    "\n",
    "df.columns = ['CUST NO.', 'x_coord', 'y_coord', 'DEMAND', 'READY TIME', 'DUE DATE',\n",
    "       'SERVICE   TIME', 'TYPE']\n",
    "\n",
    "\n",
    "data_to_be_saved = pd.merge(df,             # Combine horizontally\n",
    "                           df_final,\n",
    "                           on = ['x_coord', 'y_coord'],\n",
    "                           how = \"left\").drop_duplicates()"
   ]
  },
  {
   "cell_type": "code",
   "execution_count": 67,
   "id": "130abcc6",
   "metadata": {},
   "outputs": [],
   "source": [
    "M = max([*set(data_to_be_saved['cluster_id'].tolist())])"
   ]
  },
  {
   "cell_type": "markdown",
   "id": "54f94c44",
   "metadata": {},
   "source": [
    "# Add shipment"
   ]
  },
  {
   "cell_type": "code",
   "execution_count": 68,
   "id": "50443644",
   "metadata": {},
   "outputs": [],
   "source": [
    "df_shipment = pd.read_csv('shipment.csv')"
   ]
  },
  {
   "cell_type": "code",
   "execution_count": 69,
   "id": "c7248e7c",
   "metadata": {},
   "outputs": [
    {
     "data": {
      "text/html": [
       "<div>\n",
       "<style scoped>\n",
       "    .dataframe tbody tr th:only-of-type {\n",
       "        vertical-align: middle;\n",
       "    }\n",
       "\n",
       "    .dataframe tbody tr th {\n",
       "        vertical-align: top;\n",
       "    }\n",
       "\n",
       "    .dataframe thead th {\n",
       "        text-align: right;\n",
       "    }\n",
       "</style>\n",
       "<table border=\"1\" class=\"dataframe\">\n",
       "  <thead>\n",
       "    <tr style=\"text-align: right;\">\n",
       "      <th></th>\n",
       "      <th>lon</th>\n",
       "      <th>lat</th>\n",
       "      <th>DEMAND</th>\n",
       "      <th>READYTIME</th>\n",
       "      <th>DUETIME</th>\n",
       "      <th>SERVECETIME</th>\n",
       "      <th>TYPE</th>\n",
       "    </tr>\n",
       "  </thead>\n",
       "  <tbody>\n",
       "    <tr>\n",
       "      <th>0</th>\n",
       "      <td>150.99843</td>\n",
       "      <td>-33.92035</td>\n",
       "      <td>0</td>\n",
       "      <td>28800</td>\n",
       "      <td>32400</td>\n",
       "      <td>900</td>\n",
       "      <td>Shipment Pick up</td>\n",
       "    </tr>\n",
       "    <tr>\n",
       "      <th>1</th>\n",
       "      <td>150.89299</td>\n",
       "      <td>-34.42486</td>\n",
       "      <td>1</td>\n",
       "      <td>25200</td>\n",
       "      <td>54000</td>\n",
       "      <td>900</td>\n",
       "      <td>Shipmeng Delivery</td>\n",
       "    </tr>\n",
       "  </tbody>\n",
       "</table>\n",
       "</div>"
      ],
      "text/plain": [
       "         lon       lat  DEMAND  READYTIME  DUETIME  SERVECETIME  \\\n",
       "0  150.99843 -33.92035       0      28800    32400          900   \n",
       "1  150.89299 -34.42486       1      25200    54000          900   \n",
       "\n",
       "                TYPE  \n",
       "0   Shipment Pick up  \n",
       "1  Shipmeng Delivery  "
      ]
     },
     "execution_count": 69,
     "metadata": {},
     "output_type": "execute_result"
    }
   ],
   "source": [
    "df_shipment.head(2)"
   ]
  },
  {
   "cell_type": "code",
   "execution_count": 70,
   "id": "fa1284b7",
   "metadata": {},
   "outputs": [],
   "source": [
    "df_shipment['cluster_id']= M+100"
   ]
  },
  {
   "cell_type": "code",
   "execution_count": 71,
   "id": "7c06d9fb",
   "metadata": {},
   "outputs": [
    {
     "data": {
      "image/png": "[encoded data removed]",
      "text/plain": [
       "<Figure size 640x480 with 1 Axes>"
      ]
     },
     "metadata": {},
     "output_type": "display_data"
    }
   ],
   "source": [
    "# See Final Clusters on the map and save them\n",
    "plt.scatter(df_final['x_coord'], df_final['y_coord'],c=df_final['cluster_id'], cmap=plt.cm.hsv)\n",
    "plt.scatter(df_shipment['lon'], df_shipment['lat'],c='#000000')\n",
    "plt.xlabel('X Coordinate')\n",
    "plt.ylabel('Y Coordinate')\n",
    "plt.savefig(\"output.png\")"
   ]
  },
  {
   "cell_type": "code",
   "execution_count": 72,
   "id": "e77289b3",
   "metadata": {},
   "outputs": [
    {
     "ename": "TypeError",
     "evalue": "agg function failed [how->mean,dtype->object]",
     "output_type": "error",
     "traceback": [
      "\u001b[0;31m---------------------------------------------------------------------------\u001b[0m",
      "\u001b[0;31mTypeError\u001b[0m                                 Traceback (most recent call last)",
      "File \u001b[0;32m~/anaconda3/lib/python3.10/site-packages/pandas/core/groupby/groupby.py:1874\u001b[0m, in \u001b[0;36mGroupBy._agg_py_fallback\u001b[0;34m(self, how, values, ndim, alt)\u001b[0m\n\u001b[1;32m   1873\u001b[0m \u001b[38;5;28;01mtry\u001b[39;00m:\n\u001b[0;32m-> 1874\u001b[0m     res_values \u001b[38;5;241m=\u001b[39m \u001b[38;5;28;43mself\u001b[39;49m\u001b[38;5;241;43m.\u001b[39;49m\u001b[43mgrouper\u001b[49m\u001b[38;5;241;43m.\u001b[39;49m\u001b[43magg_series\u001b[49m\u001b[43m(\u001b[49m\u001b[43mser\u001b[49m\u001b[43m,\u001b[49m\u001b[43m \u001b[49m\u001b[43malt\u001b[49m\u001b[43m,\u001b[49m\u001b[43m \u001b[49m\u001b[43mpreserve_dtype\u001b[49m\u001b[38;5;241;43m=\u001b[39;49m\u001b[38;5;28;43;01mTrue\u001b[39;49;00m\u001b[43m)\u001b[49m\n\u001b[1;32m   1875\u001b[0m \u001b[38;5;28;01mexcept\u001b[39;00m \u001b[38;5;167;01mException\u001b[39;00m \u001b[38;5;28;01mas\u001b[39;00m err:\n",
      "File \u001b[0;32m~/anaconda3/lib/python3.10/site-packages/pandas/core/groupby/ops.py:849\u001b[0m, in \u001b[0;36mBaseGrouper.agg_series\u001b[0;34m(self, obj, func, preserve_dtype)\u001b[0m\n\u001b[1;32m    847\u001b[0m     preserve_dtype \u001b[38;5;241m=\u001b[39m \u001b[38;5;28;01mTrue\u001b[39;00m\n\u001b[0;32m--> 849\u001b[0m result \u001b[38;5;241m=\u001b[39m \u001b[38;5;28;43mself\u001b[39;49m\u001b[38;5;241;43m.\u001b[39;49m\u001b[43m_aggregate_series_pure_python\u001b[49m\u001b[43m(\u001b[49m\u001b[43mobj\u001b[49m\u001b[43m,\u001b[49m\u001b[43m \u001b[49m\u001b[43mfunc\u001b[49m\u001b[43m)\u001b[49m\n\u001b[1;32m    851\u001b[0m \u001b[38;5;28;01mif\u001b[39;00m \u001b[38;5;28mlen\u001b[39m(obj) \u001b[38;5;241m==\u001b[39m \u001b[38;5;241m0\u001b[39m \u001b[38;5;129;01mand\u001b[39;00m \u001b[38;5;28mlen\u001b[39m(result) \u001b[38;5;241m==\u001b[39m \u001b[38;5;241m0\u001b[39m \u001b[38;5;129;01mand\u001b[39;00m \u001b[38;5;28misinstance\u001b[39m(obj\u001b[38;5;241m.\u001b[39mdtype, ExtensionDtype):\n",
      "File \u001b[0;32m~/anaconda3/lib/python3.10/site-packages/pandas/core/groupby/ops.py:877\u001b[0m, in \u001b[0;36mBaseGrouper._aggregate_series_pure_python\u001b[0;34m(self, obj, func)\u001b[0m\n\u001b[1;32m    876\u001b[0m \u001b[38;5;28;01mfor\u001b[39;00m i, group \u001b[38;5;129;01min\u001b[39;00m \u001b[38;5;28menumerate\u001b[39m(splitter):\n\u001b[0;32m--> 877\u001b[0m     res \u001b[38;5;241m=\u001b[39m \u001b[43mfunc\u001b[49m\u001b[43m(\u001b[49m\u001b[43mgroup\u001b[49m\u001b[43m)\u001b[49m\n\u001b[1;32m    878\u001b[0m     res \u001b[38;5;241m=\u001b[39m extract_result(res)\n",
      "File \u001b[0;32m~/anaconda3/lib/python3.10/site-packages/pandas/core/groupby/groupby.py:2380\u001b[0m, in \u001b[0;36mGroupBy.mean.<locals>.<lambda>\u001b[0;34m(x)\u001b[0m\n\u001b[1;32m   2377\u001b[0m \u001b[38;5;28;01melse\u001b[39;00m:\n\u001b[1;32m   2378\u001b[0m     result \u001b[38;5;241m=\u001b[39m \u001b[38;5;28mself\u001b[39m\u001b[38;5;241m.\u001b[39m_cython_agg_general(\n\u001b[1;32m   2379\u001b[0m         \u001b[38;5;124m\"\u001b[39m\u001b[38;5;124mmean\u001b[39m\u001b[38;5;124m\"\u001b[39m,\n\u001b[0;32m-> 2380\u001b[0m         alt\u001b[38;5;241m=\u001b[39m\u001b[38;5;28;01mlambda\u001b[39;00m x: \u001b[43mSeries\u001b[49m\u001b[43m(\u001b[49m\u001b[43mx\u001b[49m\u001b[43m)\u001b[49m\u001b[38;5;241;43m.\u001b[39;49m\u001b[43mmean\u001b[49m\u001b[43m(\u001b[49m\u001b[43mnumeric_only\u001b[49m\u001b[38;5;241;43m=\u001b[39;49m\u001b[43mnumeric_only\u001b[49m\u001b[43m)\u001b[49m,\n\u001b[1;32m   2381\u001b[0m         numeric_only\u001b[38;5;241m=\u001b[39mnumeric_only,\n\u001b[1;32m   2382\u001b[0m     )\n\u001b[1;32m   2383\u001b[0m     \u001b[38;5;28;01mreturn\u001b[39;00m result\u001b[38;5;241m.\u001b[39m__finalize__(\u001b[38;5;28mself\u001b[39m\u001b[38;5;241m.\u001b[39mobj, method\u001b[38;5;241m=\u001b[39m\u001b[38;5;124m\"\u001b[39m\u001b[38;5;124mgroupby\u001b[39m\u001b[38;5;124m\"\u001b[39m)\n",
      "File \u001b[0;32m~/anaconda3/lib/python3.10/site-packages/pandas/core/series.py:6225\u001b[0m, in \u001b[0;36mSeries.mean\u001b[0;34m(self, axis, skipna, numeric_only, **kwargs)\u001b[0m\n\u001b[1;32m   6217\u001b[0m \u001b[38;5;129m@doc\u001b[39m(make_doc(\u001b[38;5;124m\"\u001b[39m\u001b[38;5;124mmean\u001b[39m\u001b[38;5;124m\"\u001b[39m, ndim\u001b[38;5;241m=\u001b[39m\u001b[38;5;241m1\u001b[39m))\n\u001b[1;32m   6218\u001b[0m \u001b[38;5;28;01mdef\u001b[39;00m \u001b[38;5;21mmean\u001b[39m(\n\u001b[1;32m   6219\u001b[0m     \u001b[38;5;28mself\u001b[39m,\n\u001b[0;32m   (...)\u001b[0m\n\u001b[1;32m   6223\u001b[0m     \u001b[38;5;241m*\u001b[39m\u001b[38;5;241m*\u001b[39mkwargs,\n\u001b[1;32m   6224\u001b[0m ):\n\u001b[0;32m-> 6225\u001b[0m     \u001b[38;5;28;01mreturn\u001b[39;00m \u001b[43mNDFrame\u001b[49m\u001b[38;5;241;43m.\u001b[39;49m\u001b[43mmean\u001b[49m\u001b[43m(\u001b[49m\u001b[38;5;28;43mself\u001b[39;49m\u001b[43m,\u001b[49m\u001b[43m \u001b[49m\u001b[43maxis\u001b[49m\u001b[43m,\u001b[49m\u001b[43m \u001b[49m\u001b[43mskipna\u001b[49m\u001b[43m,\u001b[49m\u001b[43m \u001b[49m\u001b[43mnumeric_only\u001b[49m\u001b[43m,\u001b[49m\u001b[43m \u001b[49m\u001b[38;5;241;43m*\u001b[39;49m\u001b[38;5;241;43m*\u001b[39;49m\u001b[43mkwargs\u001b[49m\u001b[43m)\u001b[49m\n",
      "File \u001b[0;32m~/anaconda3/lib/python3.10/site-packages/pandas/core/generic.py:11992\u001b[0m, in \u001b[0;36mNDFrame.mean\u001b[0;34m(self, axis, skipna, numeric_only, **kwargs)\u001b[0m\n\u001b[1;32m  11985\u001b[0m \u001b[38;5;28;01mdef\u001b[39;00m \u001b[38;5;21mmean\u001b[39m(\n\u001b[1;32m  11986\u001b[0m     \u001b[38;5;28mself\u001b[39m,\n\u001b[1;32m  11987\u001b[0m     axis: Axis \u001b[38;5;241m|\u001b[39m \u001b[38;5;28;01mNone\u001b[39;00m \u001b[38;5;241m=\u001b[39m \u001b[38;5;241m0\u001b[39m,\n\u001b[0;32m   (...)\u001b[0m\n\u001b[1;32m  11990\u001b[0m     \u001b[38;5;241m*\u001b[39m\u001b[38;5;241m*\u001b[39mkwargs,\n\u001b[1;32m  11991\u001b[0m ) \u001b[38;5;241m-\u001b[39m\u001b[38;5;241m>\u001b[39m Series \u001b[38;5;241m|\u001b[39m \u001b[38;5;28mfloat\u001b[39m:\n\u001b[0;32m> 11992\u001b[0m     \u001b[38;5;28;01mreturn\u001b[39;00m \u001b[38;5;28;43mself\u001b[39;49m\u001b[38;5;241;43m.\u001b[39;49m\u001b[43m_stat_function\u001b[49m\u001b[43m(\u001b[49m\n\u001b[1;32m  11993\u001b[0m \u001b[43m        \u001b[49m\u001b[38;5;124;43m\"\u001b[39;49m\u001b[38;5;124;43mmean\u001b[39;49m\u001b[38;5;124;43m\"\u001b[39;49m\u001b[43m,\u001b[49m\u001b[43m \u001b[49m\u001b[43mnanops\u001b[49m\u001b[38;5;241;43m.\u001b[39;49m\u001b[43mnanmean\u001b[49m\u001b[43m,\u001b[49m\u001b[43m \u001b[49m\u001b[43maxis\u001b[49m\u001b[43m,\u001b[49m\u001b[43m \u001b[49m\u001b[43mskipna\u001b[49m\u001b[43m,\u001b[49m\u001b[43m \u001b[49m\u001b[43mnumeric_only\u001b[49m\u001b[43m,\u001b[49m\u001b[43m \u001b[49m\u001b[38;5;241;43m*\u001b[39;49m\u001b[38;5;241;43m*\u001b[39;49m\u001b[43mkwargs\u001b[49m\n\u001b[1;32m  11994\u001b[0m \u001b[43m    \u001b[49m\u001b[43m)\u001b[49m\n",
      "File \u001b[0;32m~/anaconda3/lib/python3.10/site-packages/pandas/core/generic.py:11949\u001b[0m, in \u001b[0;36mNDFrame._stat_function\u001b[0;34m(self, name, func, axis, skipna, numeric_only, **kwargs)\u001b[0m\n\u001b[1;32m  11947\u001b[0m validate_bool_kwarg(skipna, \u001b[38;5;124m\"\u001b[39m\u001b[38;5;124mskipna\u001b[39m\u001b[38;5;124m\"\u001b[39m, none_allowed\u001b[38;5;241m=\u001b[39m\u001b[38;5;28;01mFalse\u001b[39;00m)\n\u001b[0;32m> 11949\u001b[0m \u001b[38;5;28;01mreturn\u001b[39;00m \u001b[38;5;28;43mself\u001b[39;49m\u001b[38;5;241;43m.\u001b[39;49m\u001b[43m_reduce\u001b[49m\u001b[43m(\u001b[49m\n\u001b[1;32m  11950\u001b[0m \u001b[43m    \u001b[49m\u001b[43mfunc\u001b[49m\u001b[43m,\u001b[49m\u001b[43m \u001b[49m\u001b[43mname\u001b[49m\u001b[38;5;241;43m=\u001b[39;49m\u001b[43mname\u001b[49m\u001b[43m,\u001b[49m\u001b[43m \u001b[49m\u001b[43maxis\u001b[49m\u001b[38;5;241;43m=\u001b[39;49m\u001b[43maxis\u001b[49m\u001b[43m,\u001b[49m\u001b[43m \u001b[49m\u001b[43mskipna\u001b[49m\u001b[38;5;241;43m=\u001b[39;49m\u001b[43mskipna\u001b[49m\u001b[43m,\u001b[49m\u001b[43m \u001b[49m\u001b[43mnumeric_only\u001b[49m\u001b[38;5;241;43m=\u001b[39;49m\u001b[43mnumeric_only\u001b[49m\n\u001b[1;32m  11951\u001b[0m \u001b[43m\u001b[49m\u001b[43m)\u001b[49m\n",
      "File \u001b[0;32m~/anaconda3/lib/python3.10/site-packages/pandas/core/series.py:6133\u001b[0m, in \u001b[0;36mSeries._reduce\u001b[0;34m(self, op, name, axis, skipna, numeric_only, filter_type, **kwds)\u001b[0m\n\u001b[1;32m   6129\u001b[0m     \u001b[38;5;28;01mraise\u001b[39;00m \u001b[38;5;167;01mTypeError\u001b[39;00m(\n\u001b[1;32m   6130\u001b[0m         \u001b[38;5;124mf\u001b[39m\u001b[38;5;124m\"\u001b[39m\u001b[38;5;124mSeries.\u001b[39m\u001b[38;5;132;01m{\u001b[39;00mname\u001b[38;5;132;01m}\u001b[39;00m\u001b[38;5;124m does not allow \u001b[39m\u001b[38;5;132;01m{\u001b[39;00mkwd_name\u001b[38;5;132;01m}\u001b[39;00m\u001b[38;5;124m=\u001b[39m\u001b[38;5;132;01m{\u001b[39;00mnumeric_only\u001b[38;5;132;01m}\u001b[39;00m\u001b[38;5;124m \u001b[39m\u001b[38;5;124m\"\u001b[39m\n\u001b[1;32m   6131\u001b[0m         \u001b[38;5;124m\"\u001b[39m\u001b[38;5;124mwith non-numeric dtypes.\u001b[39m\u001b[38;5;124m\"\u001b[39m\n\u001b[1;32m   6132\u001b[0m     )\n\u001b[0;32m-> 6133\u001b[0m \u001b[38;5;28;01mreturn\u001b[39;00m \u001b[43mop\u001b[49m\u001b[43m(\u001b[49m\u001b[43mdelegate\u001b[49m\u001b[43m,\u001b[49m\u001b[43m \u001b[49m\u001b[43mskipna\u001b[49m\u001b[38;5;241;43m=\u001b[39;49m\u001b[43mskipna\u001b[49m\u001b[43m,\u001b[49m\u001b[43m \u001b[49m\u001b[38;5;241;43m*\u001b[39;49m\u001b[38;5;241;43m*\u001b[39;49m\u001b[43mkwds\u001b[49m\u001b[43m)\u001b[49m\n",
      "File \u001b[0;32m~/anaconda3/lib/python3.10/site-packages/pandas/core/nanops.py:147\u001b[0m, in \u001b[0;36mbottleneck_switch.__call__.<locals>.f\u001b[0;34m(values, axis, skipna, **kwds)\u001b[0m\n\u001b[1;32m    146\u001b[0m \u001b[38;5;28;01melse\u001b[39;00m:\n\u001b[0;32m--> 147\u001b[0m     result \u001b[38;5;241m=\u001b[39m \u001b[43malt\u001b[49m\u001b[43m(\u001b[49m\u001b[43mvalues\u001b[49m\u001b[43m,\u001b[49m\u001b[43m \u001b[49m\u001b[43maxis\u001b[49m\u001b[38;5;241;43m=\u001b[39;49m\u001b[43maxis\u001b[49m\u001b[43m,\u001b[49m\u001b[43m \u001b[49m\u001b[43mskipna\u001b[49m\u001b[38;5;241;43m=\u001b[39;49m\u001b[43mskipna\u001b[49m\u001b[43m,\u001b[49m\u001b[43m \u001b[49m\u001b[38;5;241;43m*\u001b[39;49m\u001b[38;5;241;43m*\u001b[39;49m\u001b[43mkwds\u001b[49m\u001b[43m)\u001b[49m\n\u001b[1;32m    149\u001b[0m \u001b[38;5;28;01mreturn\u001b[39;00m result\n",
      "File \u001b[0;32m~/anaconda3/lib/python3.10/site-packages/pandas/core/nanops.py:404\u001b[0m, in \u001b[0;36m_datetimelike_compat.<locals>.new_func\u001b[0;34m(values, axis, skipna, mask, **kwargs)\u001b[0m\n\u001b[1;32m    402\u001b[0m     mask \u001b[38;5;241m=\u001b[39m isna(values)\n\u001b[0;32m--> 404\u001b[0m result \u001b[38;5;241m=\u001b[39m \u001b[43mfunc\u001b[49m\u001b[43m(\u001b[49m\u001b[43mvalues\u001b[49m\u001b[43m,\u001b[49m\u001b[43m \u001b[49m\u001b[43maxis\u001b[49m\u001b[38;5;241;43m=\u001b[39;49m\u001b[43maxis\u001b[49m\u001b[43m,\u001b[49m\u001b[43m \u001b[49m\u001b[43mskipna\u001b[49m\u001b[38;5;241;43m=\u001b[39;49m\u001b[43mskipna\u001b[49m\u001b[43m,\u001b[49m\u001b[43m \u001b[49m\u001b[43mmask\u001b[49m\u001b[38;5;241;43m=\u001b[39;49m\u001b[43mmask\u001b[49m\u001b[43m,\u001b[49m\u001b[43m \u001b[49m\u001b[38;5;241;43m*\u001b[39;49m\u001b[38;5;241;43m*\u001b[39;49m\u001b[43mkwargs\u001b[49m\u001b[43m)\u001b[49m\n\u001b[1;32m    406\u001b[0m \u001b[38;5;28;01mif\u001b[39;00m datetimelike:\n",
      "File \u001b[0;32m~/anaconda3/lib/python3.10/site-packages/pandas/core/nanops.py:720\u001b[0m, in \u001b[0;36mnanmean\u001b[0;34m(values, axis, skipna, mask)\u001b[0m\n\u001b[1;32m    719\u001b[0m the_sum \u001b[38;5;241m=\u001b[39m values\u001b[38;5;241m.\u001b[39msum(axis, dtype\u001b[38;5;241m=\u001b[39mdtype_sum)\n\u001b[0;32m--> 720\u001b[0m the_sum \u001b[38;5;241m=\u001b[39m \u001b[43m_ensure_numeric\u001b[49m\u001b[43m(\u001b[49m\u001b[43mthe_sum\u001b[49m\u001b[43m)\u001b[49m\n\u001b[1;32m    722\u001b[0m \u001b[38;5;28;01mif\u001b[39;00m axis \u001b[38;5;129;01mis\u001b[39;00m \u001b[38;5;129;01mnot\u001b[39;00m \u001b[38;5;28;01mNone\u001b[39;00m \u001b[38;5;129;01mand\u001b[39;00m \u001b[38;5;28mgetattr\u001b[39m(the_sum, \u001b[38;5;124m\"\u001b[39m\u001b[38;5;124mndim\u001b[39m\u001b[38;5;124m\"\u001b[39m, \u001b[38;5;28;01mFalse\u001b[39;00m):\n",
      "File \u001b[0;32m~/anaconda3/lib/python3.10/site-packages/pandas/core/nanops.py:1693\u001b[0m, in \u001b[0;36m_ensure_numeric\u001b[0;34m(x)\u001b[0m\n\u001b[1;32m   1691\u001b[0m \u001b[38;5;28;01mif\u001b[39;00m \u001b[38;5;28misinstance\u001b[39m(x, \u001b[38;5;28mstr\u001b[39m):\n\u001b[1;32m   1692\u001b[0m     \u001b[38;5;66;03m# GH#44008, GH#36703 avoid casting e.g. strings to numeric\u001b[39;00m\n\u001b[0;32m-> 1693\u001b[0m     \u001b[38;5;28;01mraise\u001b[39;00m \u001b[38;5;167;01mTypeError\u001b[39;00m(\u001b[38;5;124mf\u001b[39m\u001b[38;5;124m\"\u001b[39m\u001b[38;5;124mCould not convert string \u001b[39m\u001b[38;5;124m'\u001b[39m\u001b[38;5;132;01m{\u001b[39;00mx\u001b[38;5;132;01m}\u001b[39;00m\u001b[38;5;124m'\u001b[39m\u001b[38;5;124m to numeric\u001b[39m\u001b[38;5;124m\"\u001b[39m)\n\u001b[1;32m   1694\u001b[0m \u001b[38;5;28;01mtry\u001b[39;00m:\n",
      "\u001b[0;31mTypeError\u001b[0m: Could not convert string 'pickupdeliverydeliverydeliverydeliverydeliverydeliverydeliverydeliverydeliverydeliverydeliverydeliverydeliverydelivery' to numeric",
      "\nThe above exception was the direct cause of the following exception:\n",
      "\u001b[0;31mTypeError\u001b[0m                                 Traceback (most recent call last)",
      "Cell \u001b[0;32mIn[72], line 3\u001b[0m\n\u001b[1;32m      1\u001b[0m \u001b[38;5;66;03m# find final cluster centers\u001b[39;00m\n\u001b[0;32m----> 3\u001b[0m clusers_center \u001b[38;5;241m=\u001b[39m \u001b[43mdata_to_be_saved\u001b[49m\u001b[38;5;241;43m.\u001b[39;49m\u001b[43mgroupby\u001b[49m\u001b[43m(\u001b[49m\u001b[43m[\u001b[49m\u001b[38;5;124;43m'\u001b[39;49m\u001b[38;5;124;43mcluster_id\u001b[39;49m\u001b[38;5;124;43m'\u001b[39;49m\u001b[43m]\u001b[49m\u001b[43m)\u001b[49m\u001b[38;5;241;43m.\u001b[39;49m\u001b[43mmean\u001b[49m\u001b[43m(\u001b[49m\u001b[43m)\u001b[49m\n",
      "File \u001b[0;32m~/anaconda3/lib/python3.10/site-packages/pandas/core/groupby/groupby.py:2378\u001b[0m, in \u001b[0;36mGroupBy.mean\u001b[0;34m(self, numeric_only, engine, engine_kwargs)\u001b[0m\n\u001b[1;32m   2371\u001b[0m     \u001b[38;5;28;01mreturn\u001b[39;00m \u001b[38;5;28mself\u001b[39m\u001b[38;5;241m.\u001b[39m_numba_agg_general(\n\u001b[1;32m   2372\u001b[0m         grouped_mean,\n\u001b[1;32m   2373\u001b[0m         executor\u001b[38;5;241m.\u001b[39mfloat_dtype_mapping,\n\u001b[1;32m   2374\u001b[0m         engine_kwargs,\n\u001b[1;32m   2375\u001b[0m         min_periods\u001b[38;5;241m=\u001b[39m\u001b[38;5;241m0\u001b[39m,\n\u001b[1;32m   2376\u001b[0m     )\n\u001b[1;32m   2377\u001b[0m \u001b[38;5;28;01melse\u001b[39;00m:\n\u001b[0;32m-> 2378\u001b[0m     result \u001b[38;5;241m=\u001b[39m \u001b[38;5;28;43mself\u001b[39;49m\u001b[38;5;241;43m.\u001b[39;49m\u001b[43m_cython_agg_general\u001b[49m\u001b[43m(\u001b[49m\n\u001b[1;32m   2379\u001b[0m \u001b[43m        \u001b[49m\u001b[38;5;124;43m\"\u001b[39;49m\u001b[38;5;124;43mmean\u001b[39;49m\u001b[38;5;124;43m\"\u001b[39;49m\u001b[43m,\u001b[49m\n\u001b[1;32m   2380\u001b[0m \u001b[43m        \u001b[49m\u001b[43malt\u001b[49m\u001b[38;5;241;43m=\u001b[39;49m\u001b[38;5;28;43;01mlambda\u001b[39;49;00m\u001b[43m \u001b[49m\u001b[43mx\u001b[49m\u001b[43m:\u001b[49m\u001b[43m \u001b[49m\u001b[43mSeries\u001b[49m\u001b[43m(\u001b[49m\u001b[43mx\u001b[49m\u001b[43m)\u001b[49m\u001b[38;5;241;43m.\u001b[39;49m\u001b[43mmean\u001b[49m\u001b[43m(\u001b[49m\u001b[43mnumeric_only\u001b[49m\u001b[38;5;241;43m=\u001b[39;49m\u001b[43mnumeric_only\u001b[49m\u001b[43m)\u001b[49m\u001b[43m,\u001b[49m\n\u001b[1;32m   2381\u001b[0m \u001b[43m        \u001b[49m\u001b[43mnumeric_only\u001b[49m\u001b[38;5;241;43m=\u001b[39;49m\u001b[43mnumeric_only\u001b[49m\u001b[43m,\u001b[49m\n\u001b[1;32m   2382\u001b[0m \u001b[43m    \u001b[49m\u001b[43m)\u001b[49m\n\u001b[1;32m   2383\u001b[0m     \u001b[38;5;28;01mreturn\u001b[39;00m result\u001b[38;5;241m.\u001b[39m__finalize__(\u001b[38;5;28mself\u001b[39m\u001b[38;5;241m.\u001b[39mobj, method\u001b[38;5;241m=\u001b[39m\u001b[38;5;124m\"\u001b[39m\u001b[38;5;124mgroupby\u001b[39m\u001b[38;5;124m\"\u001b[39m)\n",
      "File \u001b[0;32m~/anaconda3/lib/python3.10/site-packages/pandas/core/groupby/groupby.py:1929\u001b[0m, in \u001b[0;36mGroupBy._cython_agg_general\u001b[0;34m(self, how, alt, numeric_only, min_count, **kwargs)\u001b[0m\n\u001b[1;32m   1926\u001b[0m     result \u001b[38;5;241m=\u001b[39m \u001b[38;5;28mself\u001b[39m\u001b[38;5;241m.\u001b[39m_agg_py_fallback(how, values, ndim\u001b[38;5;241m=\u001b[39mdata\u001b[38;5;241m.\u001b[39mndim, alt\u001b[38;5;241m=\u001b[39malt)\n\u001b[1;32m   1927\u001b[0m     \u001b[38;5;28;01mreturn\u001b[39;00m result\n\u001b[0;32m-> 1929\u001b[0m new_mgr \u001b[38;5;241m=\u001b[39m \u001b[43mdata\u001b[49m\u001b[38;5;241;43m.\u001b[39;49m\u001b[43mgrouped_reduce\u001b[49m\u001b[43m(\u001b[49m\u001b[43marray_func\u001b[49m\u001b[43m)\u001b[49m\n\u001b[1;32m   1930\u001b[0m res \u001b[38;5;241m=\u001b[39m \u001b[38;5;28mself\u001b[39m\u001b[38;5;241m.\u001b[39m_wrap_agged_manager(new_mgr)\n\u001b[1;32m   1931\u001b[0m out \u001b[38;5;241m=\u001b[39m \u001b[38;5;28mself\u001b[39m\u001b[38;5;241m.\u001b[39m_wrap_aggregated_output(res)\n",
      "File \u001b[0;32m~/anaconda3/lib/python3.10/site-packages/pandas/core/internals/managers.py:1428\u001b[0m, in \u001b[0;36mBlockManager.grouped_reduce\u001b[0;34m(self, func)\u001b[0m\n\u001b[1;32m   1424\u001b[0m \u001b[38;5;28;01mif\u001b[39;00m blk\u001b[38;5;241m.\u001b[39mis_object:\n\u001b[1;32m   1425\u001b[0m     \u001b[38;5;66;03m# split on object-dtype blocks bc some columns may raise\u001b[39;00m\n\u001b[1;32m   1426\u001b[0m     \u001b[38;5;66;03m#  while others do not.\u001b[39;00m\n\u001b[1;32m   1427\u001b[0m     \u001b[38;5;28;01mfor\u001b[39;00m sb \u001b[38;5;129;01min\u001b[39;00m blk\u001b[38;5;241m.\u001b[39m_split():\n\u001b[0;32m-> 1428\u001b[0m         applied \u001b[38;5;241m=\u001b[39m \u001b[43msb\u001b[49m\u001b[38;5;241;43m.\u001b[39;49m\u001b[43mapply\u001b[49m\u001b[43m(\u001b[49m\u001b[43mfunc\u001b[49m\u001b[43m)\u001b[49m\n\u001b[1;32m   1429\u001b[0m         result_blocks \u001b[38;5;241m=\u001b[39m extend_blocks(applied, result_blocks)\n\u001b[1;32m   1430\u001b[0m \u001b[38;5;28;01melse\u001b[39;00m:\n",
      "File \u001b[0;32m~/anaconda3/lib/python3.10/site-packages/pandas/core/internals/blocks.py:366\u001b[0m, in \u001b[0;36mBlock.apply\u001b[0;34m(self, func, **kwargs)\u001b[0m\n\u001b[1;32m    360\u001b[0m \u001b[38;5;129m@final\u001b[39m\n\u001b[1;32m    361\u001b[0m \u001b[38;5;28;01mdef\u001b[39;00m \u001b[38;5;21mapply\u001b[39m(\u001b[38;5;28mself\u001b[39m, func, \u001b[38;5;241m*\u001b[39m\u001b[38;5;241m*\u001b[39mkwargs) \u001b[38;5;241m-\u001b[39m\u001b[38;5;241m>\u001b[39m \u001b[38;5;28mlist\u001b[39m[Block]:\n\u001b[1;32m    362\u001b[0m     \u001b[38;5;124;03m\"\"\"\u001b[39;00m\n\u001b[1;32m    363\u001b[0m \u001b[38;5;124;03m    apply the function to my values; return a block if we are not\u001b[39;00m\n\u001b[1;32m    364\u001b[0m \u001b[38;5;124;03m    one\u001b[39;00m\n\u001b[1;32m    365\u001b[0m \u001b[38;5;124;03m    \"\"\"\u001b[39;00m\n\u001b[0;32m--> 366\u001b[0m     result \u001b[38;5;241m=\u001b[39m \u001b[43mfunc\u001b[49m\u001b[43m(\u001b[49m\u001b[38;5;28;43mself\u001b[39;49m\u001b[38;5;241;43m.\u001b[39;49m\u001b[43mvalues\u001b[49m\u001b[43m,\u001b[49m\u001b[43m \u001b[49m\u001b[38;5;241;43m*\u001b[39;49m\u001b[38;5;241;43m*\u001b[39;49m\u001b[43mkwargs\u001b[49m\u001b[43m)\u001b[49m\n\u001b[1;32m    368\u001b[0m     result \u001b[38;5;241m=\u001b[39m maybe_coerce_values(result)\n\u001b[1;32m    369\u001b[0m     \u001b[38;5;28;01mreturn\u001b[39;00m \u001b[38;5;28mself\u001b[39m\u001b[38;5;241m.\u001b[39m_split_op_result(result)\n",
      "File \u001b[0;32m~/anaconda3/lib/python3.10/site-packages/pandas/core/groupby/groupby.py:1926\u001b[0m, in \u001b[0;36mGroupBy._cython_agg_general.<locals>.array_func\u001b[0;34m(values)\u001b[0m\n\u001b[1;32m   1923\u001b[0m \u001b[38;5;28;01melse\u001b[39;00m:\n\u001b[1;32m   1924\u001b[0m     \u001b[38;5;28;01mreturn\u001b[39;00m result\n\u001b[0;32m-> 1926\u001b[0m result \u001b[38;5;241m=\u001b[39m \u001b[38;5;28;43mself\u001b[39;49m\u001b[38;5;241;43m.\u001b[39;49m\u001b[43m_agg_py_fallback\u001b[49m\u001b[43m(\u001b[49m\u001b[43mhow\u001b[49m\u001b[43m,\u001b[49m\u001b[43m \u001b[49m\u001b[43mvalues\u001b[49m\u001b[43m,\u001b[49m\u001b[43m \u001b[49m\u001b[43mndim\u001b[49m\u001b[38;5;241;43m=\u001b[39;49m\u001b[43mdata\u001b[49m\u001b[38;5;241;43m.\u001b[39;49m\u001b[43mndim\u001b[49m\u001b[43m,\u001b[49m\u001b[43m \u001b[49m\u001b[43malt\u001b[49m\u001b[38;5;241;43m=\u001b[39;49m\u001b[43malt\u001b[49m\u001b[43m)\u001b[49m\n\u001b[1;32m   1927\u001b[0m \u001b[38;5;28;01mreturn\u001b[39;00m result\n",
      "File \u001b[0;32m~/anaconda3/lib/python3.10/site-packages/pandas/core/groupby/groupby.py:1878\u001b[0m, in \u001b[0;36mGroupBy._agg_py_fallback\u001b[0;34m(self, how, values, ndim, alt)\u001b[0m\n\u001b[1;32m   1876\u001b[0m     msg \u001b[38;5;241m=\u001b[39m \u001b[38;5;124mf\u001b[39m\u001b[38;5;124m\"\u001b[39m\u001b[38;5;124magg function failed [how->\u001b[39m\u001b[38;5;132;01m{\u001b[39;00mhow\u001b[38;5;132;01m}\u001b[39;00m\u001b[38;5;124m,dtype->\u001b[39m\u001b[38;5;132;01m{\u001b[39;00mser\u001b[38;5;241m.\u001b[39mdtype\u001b[38;5;132;01m}\u001b[39;00m\u001b[38;5;124m]\u001b[39m\u001b[38;5;124m\"\u001b[39m\n\u001b[1;32m   1877\u001b[0m     \u001b[38;5;66;03m# preserve the kind of exception that raised\u001b[39;00m\n\u001b[0;32m-> 1878\u001b[0m     \u001b[38;5;28;01mraise\u001b[39;00m \u001b[38;5;28mtype\u001b[39m(err)(msg) \u001b[38;5;28;01mfrom\u001b[39;00m \u001b[38;5;21;01merr\u001b[39;00m\n\u001b[1;32m   1880\u001b[0m \u001b[38;5;28;01mif\u001b[39;00m ser\u001b[38;5;241m.\u001b[39mdtype \u001b[38;5;241m==\u001b[39m \u001b[38;5;28mobject\u001b[39m:\n\u001b[1;32m   1881\u001b[0m     res_values \u001b[38;5;241m=\u001b[39m res_values\u001b[38;5;241m.\u001b[39mastype(\u001b[38;5;28mobject\u001b[39m, copy\u001b[38;5;241m=\u001b[39m\u001b[38;5;28;01mFalse\u001b[39;00m)\n",
      "\u001b[0;31mTypeError\u001b[0m: agg function failed [how->mean,dtype->object]"
     ]
    }
   ],
   "source": [
    "# find final cluster centers\n",
    "\n",
    "clusers_center = data_to_be_saved.groupby(['cluster_id']).mean()"
   ]
  },
  {
   "cell_type": "code",
   "execution_count": null,
   "id": "3d38afeb",
   "metadata": {},
   "outputs": [],
   "source": [
    "df_shipment = df_shipment.reset_index()"
   ]
  },
  {
   "cell_type": "code",
   "execution_count": null,
   "id": "49482e30",
   "metadata": {},
   "outputs": [],
   "source": [
    "df_shipment.head(2)"
   ]
  },
  {
   "cell_type": "code",
   "execution_count": null,
   "id": "86a20558",
   "metadata": {},
   "outputs": [],
   "source": [
    "# See the ouliers and the center of accpted clusters\n",
    "\n",
    "fig = plt.figure()\n",
    "ax1 = fig.add_subplot(111)\n",
    "\n",
    "ax1.scatter(clusers_center['x_coord'], clusers_center['y_coord'], cmap=plt.cm.hsv, label='cluster centers')\n",
    "ax1.scatter(df_shipment['lon'], df_shipment['lat'], cmap=plt.cm.hsv, label='shipment')\n",
    "plt.legend(loc='lower right')"
   ]
  },
  {
   "cell_type": "code",
   "execution_count": null,
   "id": "1d7e9b91",
   "metadata": {},
   "outputs": [],
   "source": [
    "#make a dictionary of shipment Data\n",
    "c_list = df_shipment['index'].tolist()\n",
    "\n",
    "outlier ={}\n",
    "\n",
    "for j in range(df_shipment.shape[0]):\n",
    "    outlier[j] = (df_shipment.iloc[j, 1] , df_shipment.iloc[j, 2])"
   ]
  },
  {
   "cell_type": "code",
   "execution_count": null,
   "id": "5b17850f",
   "metadata": {},
   "outputs": [],
   "source": [
    "lst_of_distance_from_cluster = []\n",
    "\n",
    "for i in range(len(clusers_center)):\n",
    "    cluster_center_x_y = clusers_center.iloc[i, 1], clusers_center.iloc[i, 2]\n",
    "    lst_of_distance_from_cluster.append(distance_to_cluster(cluster_center_x_y))"
   ]
  },
  {
   "cell_type": "code",
   "execution_count": null,
   "id": "7c4b6175",
   "metadata": {},
   "outputs": [],
   "source": [
    "df_shipment.cluster_id"
   ]
  },
  {
   "cell_type": "code",
   "execution_count": null,
   "id": "03f4c1a6",
   "metadata": {},
   "outputs": [],
   "source": [
    "centers_df  = pd.DataFrame(lst_of_distance_from_cluster).transpose()\n",
    "centers_df.columns =data_to_be_saved.cluster_id.unique().tolist()"
   ]
  },
  {
   "cell_type": "code",
   "execution_count": null,
   "id": "3492ca9a",
   "metadata": {},
   "outputs": [],
   "source": [
    "minvalueIndexLabel = centers_df.idxmin(axis=\"columns\")\n",
    "minvalueIndexLabel"
   ]
  },
  {
   "cell_type": "code",
   "execution_count": null,
   "id": "a3353a56",
   "metadata": {},
   "outputs": [],
   "source": [
    "df_to_clstr = minvalueIndexLabel.to_frame()\n",
    "df_to_clstr = df_to_clstr.reset_index()\n",
    "df_to_clstr.columns = ['point_id', 'minimum_distance_to']"
   ]
  },
  {
   "cell_type": "code",
   "execution_count": null,
   "id": "1aa49a23",
   "metadata": {},
   "outputs": [],
   "source": [
    "# convert clomn names to string\n",
    "\n",
    "clumns_c = centers_df.columns.tolist()\n",
    "clumns_c = list(map(str, clumns_c)) \n",
    "centers_df.columns = clumns_c"
   ]
  },
  {
   "cell_type": "code",
   "execution_count": null,
   "id": "280c5556",
   "metadata": {},
   "outputs": [],
   "source": [
    "# This loop asign both of the points in \n",
    "\n",
    "i = 0\n",
    "while i < df_to_clstr.shape[0]:\n",
    "    #print(i)\n",
    "    if df_to_clstr.iloc[i, 1] != df_to_clstr.iloc[i+1, 1]:\n",
    "        dist_1 = centers_df.loc[i, str(df_to_clstr.iloc[i, 1])] + centers_df.loc[i+1, str(df_to_clstr.iloc[i, 1])]\n",
    "        print('d1', dist_1)\n",
    "        dist_2 = centers_df.loc[i, str(df_to_clstr.iloc[i+1, 1])] + centers_df.loc[i+1, str(df_to_clstr.iloc[i+1, 1])]\n",
    "        print('d2', dist_2)\n",
    "        if dist_1 >= dist_2:\n",
    "            df_to_clstr.iloc[i, 1] = df_to_clstr.iloc[i+1, 1]\n",
    "        else:\n",
    "            df_to_clstr.iloc[i+1, 1] = df_to_clstr.iloc[i, 1]\n",
    "            \n",
    "        i += 2\n",
    "    else:\n",
    "        i += 2   "
   ]
  },
  {
   "cell_type": "code",
   "execution_count": null,
   "id": "916482d8",
   "metadata": {},
   "outputs": [],
   "source": [
    "del df_shipment['cluster_id']"
   ]
  },
  {
   "cell_type": "code",
   "execution_count": null,
   "id": "9de75991",
   "metadata": {},
   "outputs": [],
   "source": [
    "df_to_clstr.columns = ['index', 'cluster_id']"
   ]
  },
  {
   "cell_type": "code",
   "execution_count": null,
   "id": "a8029619",
   "metadata": {},
   "outputs": [],
   "source": [
    "df_shipment_cluster = pd.merge(df_shipment, df_to_clstr, on = 'index', how = 'left' )"
   ]
  },
  {
   "cell_type": "code",
   "execution_count": null,
   "id": "59a97ac2",
   "metadata": {},
   "outputs": [],
   "source": [
    "df_shipment_cluster.columns = data_to_be_saved.columns.tolist()"
   ]
  },
  {
   "cell_type": "code",
   "execution_count": null,
   "id": "43636858",
   "metadata": {},
   "outputs": [],
   "source": [
    "df_final = pd.concat([data_to_be_saved, df_shipment_cluster], ignore_index = True)"
   ]
  },
  {
   "cell_type": "code",
   "execution_count": null,
   "id": "128aa615",
   "metadata": {},
   "outputs": [],
   "source": [
    "# See Final Clusters on the map and save them\n",
    "plt.scatter(df_final['x_coord'], df_final['y_coord'],c=df_final['cluster_id'], cmap=plt.cm.hsv)\n",
    "plt.xlabel('X Coordinate')\n",
    "plt.ylabel('Y Coordinate')\n",
    "plt.savefig(\"output.png\")"
   ]
  },
  {
   "cell_type": "code",
   "execution_count": null,
   "id": "bc211816",
   "metadata": {},
   "outputs": [],
   "source": [
    "df_final.to_csv('P&D_clusters.csv')"
   ]
  },
  {
   "cell_type": "code",
   "execution_count": null,
   "id": "b0e6a30c",
   "metadata": {},
   "outputs": [],
   "source": []
  }
 ],
 "metadata": {
  "kernelspec": {
   "display_name": "Python 3 (ipykernel)",
   "language": "python",
   "name": "python3"
  },
  "language_info": {
   "codemirror_mode": {
    "name": "ipython",
    "version": 3
   },
   "file_extension": ".py",
   "mimetype": "text/x-python",
   "name": "python",
   "nbconvert_exporter": "python",
   "pygments_lexer": "ipython3",
   "version": "3.10.9"
  }
 },
 "nbformat": 4,
 "nbformat_minor": 5
}
